{
 "cells": [
  {
   "cell_type": "code",
   "execution_count": 1,
   "metadata": {},
   "outputs": [],
   "source": [
    "import os\n",
    "import re"
   ]
  },
  {
   "cell_type": "code",
   "execution_count": 2,
   "metadata": {},
   "outputs": [],
   "source": [
    "# Import type hints\n",
    "from typing import List"
   ]
  },
  {
   "cell_type": "code",
   "execution_count": 3,
   "metadata": {},
   "outputs": [],
   "source": [
    "file: str = \"/Users/adebayobraimah/Desktop/projects/auto-doc/workdir/test/pkg/bashpkg/script.sh\""
   ]
  },
  {
   "cell_type": "code",
   "execution_count": 28,
   "metadata": {},
   "outputs": [
    {
     "name": "stdout",
     "output_type": "stream",
     "text": [
      "['#!/usr/bin/env bash\\n', '# -*- coding: utf-8 -*-\\n', '\\n', '#######################################\\n', '# DESCRIPTION:\\n', '#   Test bash file for documentation purposes.\\n', '# \\n', '# NOTE:\\n', '#   * Intended for documentation and test purposes.\\n', '#######################################\\n', '\\n', '\\n', '\\n', '#######################################\\n', '# DESCRIPTION\\n', '# \\n', '# Args:\\n', '#   Executable (name or command)\\n', '# Returns:\\n', '#   Exit status of 1 if executable is not in system ${PATH}\\n', '#######################################\\n', 'check_dependency(){\\n', '  if ! hash ${1} 2>/dev/null; then\\n', '    echo \"Dependency not met: ${1} - is neither an executable nor in the system PATH variable.\"\\n', '    exit 1\\n', '  fi\\n', '}\\n']\n"
     ]
    }
   ],
   "source": [
    "with open(file,mode='r') as f:\n",
    "    contents: List[str] = f.readlines()\n",
    "    # contents: List[str] = f.read()\n",
    "print(contents)"
   ]
  },
  {
   "cell_type": "code",
   "execution_count": 14,
   "metadata": {},
   "outputs": [],
   "source": [
    "block: str = \"\"\".. code-block:: bash\"\"\""
   ]
  },
  {
   "cell_type": "code",
   "execution_count": 16,
   "metadata": {},
   "outputs": [],
   "source": [
    "with open('test.rst',mode='w', encoding=\"utf-8\") as f:\n",
    "    f.write(block)\n",
    "    f.writelines(['\\t' + x for x in contents])"
   ]
  },
  {
   "cell_type": "code",
   "execution_count": null,
   "metadata": {},
   "outputs": [],
   "source": [
    "# TODO:\n",
    "# Remove shebang and encoding comment (if present)\n",
    "# Remove extraneous comments at the beginning of file (e.g. bsub commands)\n",
    "# Match for long (########) comments\n",
    "# Replace tabs with (arbitrary number of) spaces"
   ]
  },
  {
   "cell_type": "code",
   "execution_count": 18,
   "metadata": {},
   "outputs": [],
   "source": [
    "text: List[str] = contents\n",
    "# text"
   ]
  },
  {
   "cell_type": "code",
   "execution_count": 19,
   "metadata": {},
   "outputs": [],
   "source": [
    "replacement_spaces: str = \"  \""
   ]
  },
  {
   "cell_type": "code",
   "execution_count": 20,
   "metadata": {},
   "outputs": [],
   "source": [
    "prepend_char='\\t'\n",
    "append_char=''"
   ]
  },
  {
   "cell_type": "code",
   "execution_count": 21,
   "metadata": {},
   "outputs": [],
   "source": [
    "text: List[str] = [prepend_char + x + append_char for x in text]"
   ]
  },
  {
   "cell_type": "code",
   "execution_count": 23,
   "metadata": {},
   "outputs": [],
   "source": [
    "# text"
   ]
  },
  {
   "cell_type": "code",
   "execution_count": 26,
   "metadata": {},
   "outputs": [
    {
     "data": {
      "text/plain": [
       "'  #!/usr/bin/env bash\\n'"
      ]
     },
     "execution_count": 26,
     "metadata": {},
     "output_type": "execute_result"
    }
   ],
   "source": [
    "re.sub(pattern='\\t',repl=replacement_spaces,string=text[0])"
   ]
  },
  {
   "cell_type": "code",
   "execution_count": 32,
   "metadata": {},
   "outputs": [],
   "source": [
    "for i,alpha_numerics in enumerate(text):\n",
    "    # print(alpha_numerics)\n",
    "    text[i] = re.sub(pattern='\\t',repl=replacement_spaces,string=alpha_numerics)"
   ]
  },
  {
   "cell_type": "code",
   "execution_count": 34,
   "metadata": {},
   "outputs": [],
   "source": [
    "# text"
   ]
  },
  {
   "cell_type": "code",
   "execution_count": 41,
   "metadata": {},
   "outputs": [],
   "source": [
    "replacement_spaces = 5"
   ]
  },
  {
   "cell_type": "code",
   "execution_count": 42,
   "metadata": {},
   "outputs": [],
   "source": [
    "n: int = replacement_spaces\n",
    "replacement_spaces: str = \"\"\n",
    "for i in range(n):\n",
    "    replacement_spaces += \" \""
   ]
  },
  {
   "cell_type": "code",
   "execution_count": 43,
   "metadata": {},
   "outputs": [
    {
     "data": {
      "text/plain": [
       "'     '"
      ]
     },
     "execution_count": 43,
     "metadata": {},
     "output_type": "execute_result"
    }
   ],
   "source": [
    "replacement_spaces"
   ]
  },
  {
   "cell_type": "code",
   "execution_count": 1,
   "metadata": {},
   "outputs": [],
   "source": [
    "from util import read_file, write_file, file_parts\n",
    "from docshell import document_shell_script"
   ]
  },
  {
   "cell_type": "code",
   "execution_count": 2,
   "metadata": {},
   "outputs": [],
   "source": [
    "file: str = \"/Users/adebayobraimah/Desktop/projects/auto-doc/workdir/test/pkg/bashpkg/script.sh\""
   ]
  },
  {
   "cell_type": "code",
   "execution_count": 5,
   "metadata": {},
   "outputs": [],
   "source": [
    "t = read_file(file)"
   ]
  },
  {
   "cell_type": "code",
   "execution_count": 12,
   "metadata": {},
   "outputs": [],
   "source": [
    "block: str = \"\"\".. code-block:: bash\\n\\n\"\"\""
   ]
  },
  {
   "cell_type": "code",
   "execution_count": 13,
   "metadata": {},
   "outputs": [],
   "source": [
    "write_file('test.rst',text=block,\n",
    "prepend_char=None,\n",
    "convert_tabs_to_spaces=True,\n",
    "num_spaces=4,\n",
    "mode=\"w\")"
   ]
  },
  {
   "cell_type": "code",
   "execution_count": 14,
   "metadata": {},
   "outputs": [],
   "source": [
    "write_file('test.rst',text=t,\n",
    "prepend_char='\\t',\n",
    "convert_tabs_to_spaces=True,\n",
    "num_spaces=4,\n",
    "mode=\"a\")"
   ]
  },
  {
   "cell_type": "code",
   "execution_count": 23,
   "metadata": {},
   "outputs": [],
   "source": [
    "_, _ext = os.path.splitext(file)"
   ]
  },
  {
   "cell_type": "code",
   "execution_count": 17,
   "metadata": {},
   "outputs": [],
   "source": [
    "f = 'test'\n",
    "f = os.path.abspath(f)"
   ]
  },
  {
   "cell_type": "code",
   "execution_count": 19,
   "metadata": {},
   "outputs": [
    {
     "data": {
      "text/plain": [
       "('/Users/adebayobraimah/Desktop/projects/auto-doc/auto-doc/utils/test', '')"
      ]
     },
     "execution_count": 19,
     "metadata": {},
     "output_type": "execute_result"
    }
   ],
   "source": [
    "os.path.splitext(f)"
   ]
  },
  {
   "cell_type": "code",
   "execution_count": 21,
   "metadata": {},
   "outputs": [
    {
     "data": {
      "text/plain": [
       "['#!/usr/bin/env bash\\n',\n",
       " '# -*- coding: utf-8 -*-\\n',\n",
       " '\\n',\n",
       " '#######################################\\n',\n",
       " '# DESCRIPTION:\\n',\n",
       " '#   Test bash file for documentation purposes.\\n',\n",
       " '# \\n',\n",
       " '# NOTE:\\n',\n",
       " '#   * Intended for documentation and test purposes.\\n',\n",
       " '#######################################\\n',\n",
       " '\\n',\n",
       " '\\n',\n",
       " '\\n',\n",
       " '#######################################\\n',\n",
       " '# DESCRIPTION\\n',\n",
       " '# \\n',\n",
       " '# Args:\\n',\n",
       " '#   Executable (name or command)\\n',\n",
       " '# Returns:\\n',\n",
       " '#   Exit status of 1 if executable is not in system ${PATH}\\n',\n",
       " '#######################################\\n',\n",
       " 'check_dependency(){\\n',\n",
       " '  if ! hash ${1} 2>/dev/null; then\\n',\n",
       " '    echo \"Dependency not met: ${1} - is neither an executable nor in the system PATH variable.\"\\n',\n",
       " '    exit 1\\n',\n",
       " '  fi\\n',\n",
       " '}\\n']"
      ]
     },
     "execution_count": 21,
     "metadata": {},
     "output_type": "execute_result"
    }
   ],
   "source": [
    "t"
   ]
  },
  {
   "cell_type": "code",
   "execution_count": 22,
   "metadata": {},
   "outputs": [
    {
     "data": {
      "text/plain": [
       "True"
      ]
     },
     "execution_count": 22,
     "metadata": {},
     "output_type": "execute_result"
    }
   ],
   "source": [
    "'bash' in t[0]"
   ]
  },
  {
   "cell_type": "code",
   "execution_count": 33,
   "metadata": {},
   "outputs": [
    {
     "data": {
      "text/plain": [
       "'pl'"
      ]
     },
     "execution_count": 33,
     "metadata": {},
     "output_type": "execute_result"
    }
   ],
   "source": [
    "# _ext = '.sh'\n",
    "_ext = '.PL'\n",
    "\n",
    "_ext[1:].lower()"
   ]
  },
  {
   "cell_type": "code",
   "execution_count": 27,
   "metadata": {},
   "outputs": [],
   "source": [
    "shell_dict = {\n",
    "        \"sh\": \"bash\",\n",
    "        \"bash\": \"bash\",\n",
    "        \"zsh\": \"zsh\",\n",
    "        \"ruby\": \"ruby\",\n",
    "        \"rb\": \"ruby\",\n",
    "        \"perl\": \"perl\",\n",
    "        \"pl\": \"perl\",\n",
    "    }"
   ]
  },
  {
   "cell_type": "code",
   "execution_count": 30,
   "metadata": {},
   "outputs": [],
   "source": [
    "shell_dict.get('z',None)"
   ]
  },
  {
   "cell_type": "code",
   "execution_count": 38,
   "metadata": {},
   "outputs": [],
   "source": [
    "_, _f=os.path.split(file)\n",
    "_,ext=os.path.splitext(file)"
   ]
  },
  {
   "cell_type": "code",
   "execution_count": 42,
   "metadata": {},
   "outputs": [
    {
     "data": {
      "text/plain": [
       "'script'"
      ]
     },
     "execution_count": 42,
     "metadata": {},
     "output_type": "execute_result"
    }
   ],
   "source": [
    "_f[:-len(ext)]"
   ]
  },
  {
   "cell_type": "code",
   "execution_count": 5,
   "metadata": {},
   "outputs": [
    {
     "data": {
      "text/plain": [
       "('/Users/adebayobraimah/Desktop/projects/auto-doc/workdir/test/pkg/bashpkg',\n",
       " 'script',\n",
       " '.sh')"
      ]
     },
     "execution_count": 5,
     "metadata": {},
     "output_type": "execute_result"
    }
   ],
   "source": [
    "file_parts(file)"
   ]
  },
  {
   "cell_type": "code",
   "execution_count": 3,
   "metadata": {},
   "outputs": [],
   "source": [
    "document_shell_script(file=file,outfile='test.rst')"
   ]
  },
  {
   "cell_type": "code",
   "execution_count": 4,
   "metadata": {},
   "outputs": [
    {
     "data": {
      "text/plain": [
       "Copyright (c) 2001-2022 Python Software Foundation.\n",
       "All Rights Reserved.\n",
       "\n",
       "Copyright (c) 2000 BeOpen.com.\n",
       "All Rights Reserved.\n",
       "\n",
       "Copyright (c) 1995-2001 Corporation for National Research Initiatives.\n",
       "All Rights Reserved.\n",
       "\n",
       "Copyright (c) 1991-1995 Stichting Mathematisch Centrum, Amsterdam.\n",
       "All Rights Reserved."
      ]
     },
     "execution_count": 4,
     "metadata": {},
     "output_type": "execute_result"
    }
   ],
   "source": [
    "copyright"
   ]
  },
  {
   "cell_type": "code",
   "execution_count": null,
   "metadata": {},
   "outputs": [],
   "source": []
  }
 ],
 "metadata": {
  "interpreter": {
   "hash": "d468426d63d0be2bfc73f6804425c002b10b0e4aa37b48b2e99f4001aa4ea770"
  },
  "kernelspec": {
   "display_name": "Python 3.9.12",
   "language": "python",
   "name": "python3"
  },
  "language_info": {
   "codemirror_mode": {
    "name": "ipython",
    "version": 3
   },
   "file_extension": ".py",
   "mimetype": "text/x-python",
   "name": "python",
   "nbconvert_exporter": "python",
   "pygments_lexer": "ipython3",
   "version": "3.9.12"
  },
  "orig_nbformat": 4
 },
 "nbformat": 4,
 "nbformat_minor": 2
}
