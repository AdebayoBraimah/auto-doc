{
 "cells": [
  {
   "cell_type": "code",
   "execution_count": 1,
   "metadata": {},
   "outputs": [],
   "source": [
    "import os\n",
    "import pathlib\n",
    "import sys"
   ]
  },
  {
   "cell_type": "code",
   "execution_count": 2,
   "metadata": {},
   "outputs": [],
   "source": [
    "__file__ = \"/Users/adebayobraimah/Desktop/projects/auto-doc/autodoc/tests/test.1.ipynb\""
   ]
  },
  {
   "cell_type": "code",
   "execution_count": 3,
   "metadata": {},
   "outputs": [],
   "source": [
    "outdir: str = \"/Users/adebayobraimah/Desktop/projects/auto-doc/autodoc/tests/test.1\""
   ]
  },
  {
   "cell_type": "code",
   "execution_count": 4,
   "metadata": {},
   "outputs": [
    {
     "data": {
      "text/plain": [
       "'/Users/adebayobraimah/Desktop/projects/auto-doc'"
      ]
     },
     "execution_count": 4,
     "metadata": {},
     "output_type": "execute_result"
    }
   ],
   "source": [
    "_pkg_path: str = os.path.join(str(pathlib.Path(os.path.abspath(__file__)).parents[2]))\n",
    "_pkg_path"
   ]
  },
  {
   "cell_type": "code",
   "execution_count": 5,
   "metadata": {},
   "outputs": [],
   "source": [
    "sys.path.append(_pkg_path)"
   ]
  },
  {
   "cell_type": "code",
   "execution_count": 6,
   "metadata": {},
   "outputs": [],
   "source": [
    "# from autodoc.documentation.initialize import doc_init"
   ]
  },
  {
   "cell_type": "code",
   "execution_count": 7,
   "metadata": {},
   "outputs": [],
   "source": [
    "# doc_init(\n",
    "#     outdir=outdir,\n",
    "#     pkg=\"/Users/adebayobraimah/Desktop/projects/auto-doc/autodoc\",\n",
    "# )"
   ]
  },
  {
   "cell_type": "code",
   "execution_count": 8,
   "metadata": {},
   "outputs": [],
   "source": [
    "from autodoc.conf.write_conf import _conf_info"
   ]
  },
  {
   "cell_type": "code",
   "execution_count": 9,
   "metadata": {},
   "outputs": [
    {
     "data": {
      "text/plain": [
       "'# Configuration file for the Sphinx documentation builder.\\n#\\n# This file only contains a selection of the most common options. For a full\\n# list see the documentation:\\n# https://www.sphinx-doc.org/en/master/usage/configuration.html\\n\\n# -- Path setup --------------------------------------------------------------\\n\\n# If extensions (or modules to document with autodoc) are in another directory,\\n# add these directories to sys.path here. If the directory is relative to the\\n# documentation root, use os.path.abspath to make it absolute, like shown here.\\n#\\nimport os\\nimport sys\\n\\n_pkg_path: str = os.path.abspath(\"\")\\nsys.path.insert(0, _pkg_path)\\n\\n\\n# -- Project information -----------------------------------------------------\\n\\nproject = \"\"\\ncopyright = \"\"\\nauthor = \"\"\\n\\n# The full version, including alpha/beta/rc tags\\nrelease = \"\"\\n\\n\\n# -- General configuration ---------------------------------------------------\\n\\n# Add any Sphinx extension module names here, as strings. They can be\\n# extensions coming with Sphinx (named \\'sphinx.ext.*\\') or your custom\\n# ones.\\nextensions = [\\n    \"sphinx.ext.autodoc\",\\n    \"sphinx.ext.napoleon\",\\n    \"sphinxarg.ext\",\\n    \"sphinx_autodoc_typehints\",\\n    \"myst_parser\",\\n    \"sphinx.ext.intersphinx\",\\n    \"sphinx_tabs.tabs\",\\n    \"sphinx.ext.viewcode\",\\n    \"sphinx-rtd-dark-mode\",\\n]\\n\\nsource_suffix = {\\n    \".rst\": \"restructuredtext\",\\n    \".txt\": \"markdown\",\\n    \".md\": \"markdown\",\\n}\\n\\nmyst_enable_extensions = [\\n    \"amsmath\",\\n    \"colon_fence\",\\n    \"deflist\",\\n    \"dollarmath\",\\n    \"fieldlist\",\\n    \"html_admonition\",\\n    \"html_image\",\\n    \"linkify\",\\n    \"replacements\",\\n    \"smartquotes\",\\n    \"strikethrough\",\\n    \"substitution\",\\n    \"tasklist\",\\n]\\n\\n# Sphinx-tab configuration\\nsphinx_tabs_valid_builders = [\"linkcheck\"]\\nsphinx_tabs_disable_tab_closing = True\\nsphinx_tabs_disable_css_loading = False\\n\\n\\n# Add any paths that contain templates here, relative to this directory.\\ntemplates_path = [\"_templates\"]\\n\\n\\n# List of patterns, relative to source directory, that match files and\\n# directories to ignore when looking for source files.\\n# This pattern also affects html_static_path and html_extra_path.\\nexclude_patterns = []\\n\\n\\n# -- Options for HTML output -------------------------------------------------\\n\\n# The theme to use for HTML and HTML Help pages.  See the documentation for\\n# a list of builtin themes.\\n#\\nhtml_theme = \"\"\\n\\n# Add any paths that contain custom static files (such as style sheets) here,\\n# relative to this directory. They are copied after the builtin static files,\\n# so a file named \"default.css\" will overwrite the builtin \"default.css\".\\nhtml_static_path = [\"_static\"]\\n\\n    '"
      ]
     },
     "execution_count": 9,
     "metadata": {},
     "output_type": "execute_result"
    }
   ],
   "source": [
    "_conf_info()"
   ]
  },
  {
   "cell_type": "code",
   "execution_count": 10,
   "metadata": {},
   "outputs": [],
   "source": [
    "bb = []"
   ]
  },
  {
   "cell_type": "code",
   "execution_count": 11,
   "metadata": {},
   "outputs": [
    {
     "ename": "IndexError",
     "evalue": "list index out of range",
     "output_type": "error",
     "traceback": [
      "\u001b[0;31m---------------------------------------------------------------------------\u001b[0m",
      "\u001b[0;31mIndexError\u001b[0m                                Traceback (most recent call last)",
      "\u001b[1;32m/Users/adebayobraimah/Desktop/projects/auto-doc/autodoc/tests/test.1.ipynb Cell 11'\u001b[0m in \u001b[0;36m<cell line: 1>\u001b[0;34m()\u001b[0m\n\u001b[0;32m----> <a href='vscode-notebook-cell:/Users/adebayobraimah/Desktop/projects/auto-doc/autodoc/tests/test.1.ipynb#ch0000017?line=0'>1</a>\u001b[0m bb[\u001b[39m0\u001b[39;49m]\n",
      "\u001b[0;31mIndexError\u001b[0m: list index out of range"
     ]
    }
   ],
   "source": [
    "bb[0]"
   ]
  },
  {
   "cell_type": "code",
   "execution_count": null,
   "metadata": {},
   "outputs": [],
   "source": []
  }
 ],
 "metadata": {
  "kernelspec": {
   "display_name": "Python 3.9.12",
   "language": "python",
   "name": "python3"
  },
  "language_info": {
   "codemirror_mode": {
    "name": "ipython",
    "version": 3
   },
   "file_extension": ".py",
   "mimetype": "text/x-python",
   "name": "python",
   "nbconvert_exporter": "python",
   "pygments_lexer": "ipython3",
   "version": "3.9.12"
  },
  "orig_nbformat": 4,
  "vscode": {
   "interpreter": {
    "hash": "d468426d63d0be2bfc73f6804425c002b10b0e4aa37b48b2e99f4001aa4ea770"
   }
  }
 },
 "nbformat": 4,
 "nbformat_minor": 2
}
