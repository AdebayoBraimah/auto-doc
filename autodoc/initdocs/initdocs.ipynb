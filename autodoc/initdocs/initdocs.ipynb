{
 "cells": [
  {
   "cell_type": "code",
   "execution_count": 1,
   "metadata": {},
   "outputs": [],
   "source": [
    "from commandio.workdir import WorkDir"
   ]
  },
  {
   "cell_type": "code",
   "execution_count": 2,
   "metadata": {},
   "outputs": [],
   "source": [
    "outdir = '/Users/adebayobraimah/Desktop/projects/auto-doc/workdir/test.2'"
   ]
  },
  {
   "cell_type": "code",
   "execution_count": 3,
   "metadata": {},
   "outputs": [
    {
     "name": "stdout",
     "output_type": "stream",
     "text": [
      "/Users/adebayobraimah/Desktop/projects/auto-doc/workdir/test.2/doc/source/conf.py\n"
     ]
    }
   ],
   "source": [
    "with WorkDir(outdir) as od:\n",
    "    sourcedir: str = od.join('doc','source')\n",
    "    with WorkDir(sourcedir) as sd:\n",
    "        conf_file: str = sd.join('conf.py')\n",
    "        print(conf_file)"
   ]
  },
  {
   "cell_type": "code",
   "execution_count": null,
   "metadata": {},
   "outputs": [],
   "source": []
  }
 ],
 "metadata": {
  "kernelspec": {
   "display_name": "Python 3.9.12 (conda)",
   "language": "python",
   "name": "python3"
  },
  "language_info": {
   "codemirror_mode": {
    "name": "ipython",
    "version": 3
   },
   "file_extension": ".py",
   "mimetype": "text/x-python",
   "name": "python",
   "nbconvert_exporter": "python",
   "pygments_lexer": "ipython3",
   "version": "3.9.12"
  },
  "orig_nbformat": 4,
  "vscode": {
   "interpreter": {
    "hash": "d468426d63d0be2bfc73f6804425c002b10b0e4aa37b48b2e99f4001aa4ea770"
   }
  }
 },
 "nbformat": 4,
 "nbformat_minor": 2
}
